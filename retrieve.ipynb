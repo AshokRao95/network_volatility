{
 "cells": [
  {
   "cell_type": "code",
   "execution_count": 5,
   "metadata": {
    "scrolled": true,
    "slideshow": {
     "slide_type": "slide"
    }
   },
   "outputs": [
    {
     "data": {
      "text/html": [
       "\n",
       "<style>\n",
       "    div#notebook-container    { width: 80%; }\n",
       "    div#menubar-container     { width: 65%; }\n",
       "    div#maintoolbar-container { width: 99%; }\n",
       "</style>\n"
      ],
      "text/plain": [
       "<IPython.core.display.HTML object>"
      ]
     },
     "metadata": {},
     "output_type": "display_data"
    }
   ],
   "source": [
    "%run \"utils.ipynb\"\n",
    "import sqlite3 \n",
    "import numpy as np\n",
    "import pandas as pd \n",
    "from fredapi import Fred \n",
    "from collections import defaultdict\n",
    "from contextlib import closing "
   ]
  },
  {
   "cell_type": "code",
   "execution_count": 6,
   "metadata": {},
   "outputs": [],
   "source": [
    "klems_uri_ = 'https://dataverse.harvard.edu/api/access/datafile/697683'\n",
    "\n",
    "def create_update_map_df(x, columns, idx, func, to_field, from_field, f_map):\n",
    "    df = pd.DataFrame(x, columns=columns)\n",
    "    df[idx] = df[idx].apply(func)\n",
    "    df[to_field] = df[from_field].map(f_map)\n",
    "    cols = df.columns.tolist()\n",
    "    df = df[cols[:2] + [cols[-1]] + cols[2:-1]]\n",
    "    df = df.sort_values(by='year', kind='mergesort')\n",
    "    df = df.set_index(idx)\n",
    "    return(df)\n",
    "\n",
    "def retrieve_from_fred(series, called, as_of, key='c179e56a36420dec093e40126e810fce'):\n",
    "    fred = Fred(api_key=key)\n",
    "    df = fred.get_series_as_of_date(series, as_of).dropna()[['date', 'value']]\n",
    "    df.rename(columns={'value': called}, inplace=True)\n",
    "    df.date = pd.to_datetime(df.date, format='%Y%m%d')\n",
    "    df = df.set_index(['date'])\n",
    "    return(df)\n",
    "\n",
    "def retrieve_from_xls(uri, called=None, **kwargs):\n",
    "    return(zip(called, pd.read_excel(uri, **kwargs).values()))\n",
    "\n",
    "def retrieve_sector_data_raw(uri, sheets, idx, mapper=None, as_int=lambda x: pd.to_numeric(x, downcast='unsigned')):\n",
    "    dfs = {k: v.dropna().as_matrix() for k,v in pd.read_excel(uri, sheetname=sheets, header=None).items()}\n",
    "    sectors = defaultdict(lambda: None); sectors.update({x[0]: transform_name(x[1].lstrip()) for x in dfs[1]})\n",
    "    header = [mapper[x] or x for x in dfs[2][0]]\n",
    "    # columns = [sectors[x] or x for x in header]\n",
    "    data = [dfs[3], dfs[4], dfs[3]/as_units(dfs[4],(0,1))]\n",
    "    out = list(map(lambda x: create_update_map_df(x, header, idx, as_int, 'sector', 'sector_id', sectors), data))\n",
    "    return({'nominal': out[0], 'prices': out[1], 'real': out[2]})"
   ]
  },
  {
   "cell_type": "code",
   "execution_count": 9,
   "metadata": {},
   "outputs": [],
   "source": [
    "db_name = 'macrodata.db'\n",
    "fred_series_as_of = '12/31/2016'\n",
    "def update_fred(series_from_fred):\n",
    "    with closing(sqlite3.connect(db_name)) as connection:\n",
    "        series = [retrieve_from_fred(k, v, fred_series_as_of) for k,v in series_from_fred.items()]\n",
    "        out = pd.concat(series, axis=0)\n",
    "        out.to_sql('fred', connection, index=True, if_exists='replace', index_label='date')\n",
    "        \n",
    "def update_sector_data(uri=klems_uri_, n_sectors=88, field_update=None):\n",
    "    with closing(sqlite3.connect(db_name)) as connection:\n",
    "        field_update = field_update or {'industry': 'sector_id', 'industry output': 'output', 'USEnci': '99'}\n",
    "        mapper = defaultdict(lambda: None)\n",
    "        mapper.update({'USEcom%s' %x: x for x in range(1, n_sectors+1)})\n",
    "        mapper.update(field_update)\n",
    "        idx = ['year', 'sector_id']\n",
    "        out = retrieve_sector_data_raw(uri=uri, sheets=[1,2,3,4], idx=idx, mapper=mapper)\n",
    "        for table_name, rows in out.items():\n",
    "            print('Writing [%s] into the database.' %(table_name))\n",
    "            rows.to_sql('klems_%s' %(table_name), connection, index=True, if_exists='replace', index_label=idx)"
   ]
  },
  {
   "cell_type": "code",
   "execution_count": 40,
   "metadata": {
    "collapsed": true,
    "scrolled": true
   },
   "outputs": [],
   "source": [
    "# update_fred({'GDPC1': 'real_gdp', 'GDP': 'nominal_gdp'})"
   ]
  },
  {
   "cell_type": "code",
   "execution_count": 10,
   "metadata": {},
   "outputs": [
    {
     "name": "stdout",
     "output_type": "stream",
     "text": [
      "Writing [nominal] into the database.\n",
      "Writing [prices] into the database.\n",
      "Writing [real] into the database.\n"
     ]
    }
   ],
   "source": [
    "update_sector_data()"
   ]
  },
  {
   "cell_type": "code",
   "execution_count": null,
   "metadata": {
    "collapsed": true
   },
   "outputs": [],
   "source": []
  }
 ],
 "metadata": {
  "kernelspec": {
   "display_name": "Python 3",
   "language": "python",
   "name": "python3"
  },
  "language_info": {
   "codemirror_mode": {
    "name": "ipython",
    "version": 3
   },
   "file_extension": ".py",
   "mimetype": "text/x-python",
   "name": "python",
   "nbconvert_exporter": "python",
   "pygments_lexer": "ipython3",
   "version": "3.6.4"
  }
 },
 "nbformat": 4,
 "nbformat_minor": 2
}
